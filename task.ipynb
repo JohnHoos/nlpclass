{
 "cells": [
  {
   "cell_type": "code",
   "execution_count": 39,
   "metadata": {},
   "outputs": [],
   "source": [
    "import os, sys\n",
    "import pandas as pd\n",
    "import matplotlib.pyplot as plt\n",
    "from sklearn.model_selection import train_test_split\n",
    "from sklearn.model_selection import KFold\n",
    "%matplotlib inline"
   ]
  },
  {
   "cell_type": "markdown",
   "metadata": {},
   "source": [
    "# Read and join data sets"
   ]
  },
  {
   "cell_type": "code",
   "execution_count": 4,
   "metadata": {},
   "outputs": [
    {
     "name": "stdout",
     "output_type": "stream",
     "text": [
      "Adding into sys.path: /Users/yuconghu/OneDrive - nyu.edu/interview-task/dataset/\n"
     ]
    }
   ],
   "source": [
    "module_dir = os.getcwd() + '/dataset/'\n",
    "sys.path.append(module_dir)\n",
    "print(f'Adding into sys.path: {module_dir}')"
   ]
  },
  {
   "cell_type": "code",
   "execution_count": 7,
   "metadata": {},
   "outputs": [],
   "source": [
    "products_0 = pd.read_csv(module_dir+'products-data-0.tsv', sep='\\t', names = [\"id\", \"category\", \"title\"])\n",
    "products_1 = pd.read_csv(module_dir+'products-data-1.tsv', sep='\\t', names = [\"id\", \"category\", \"title\"])\n",
    "products_2 = pd.read_csv(module_dir+'products-data-2.tsv', sep='\\t', names = [\"id\", \"category\", \"title\"])\n",
    "products_3 = pd.read_csv(module_dir+'products-data-3.tsv', sep='\\t', names = [\"id\", \"category\", \"title\"])\n",
    "\n",
    "reviews_0 = pd.read_csv(module_dir+'reviews-0.tsv', sep='\\t', names = ['id', 'rating', 'review'])\n",
    "reviews_1 = pd.read_csv(module_dir+'reviews-1.tsv', sep='\\t', names = ['id', 'rating', 'review'])\n",
    "reviews_2 = pd.read_csv(module_dir+'reviews-2.tsv', sep='\\t', names = ['id', 'rating', 'review'])\n",
    "reviews_3 = pd.read_csv(module_dir+'reviews-3.tsv', sep='\\t', names = ['id', 'rating', 'review'])"
   ]
  },
  {
   "cell_type": "code",
   "execution_count": 14,
   "metadata": {},
   "outputs": [
    {
     "data": {
      "text/html": [
       "<div>\n",
       "<style scoped>\n",
       "    .dataframe tbody tr th:only-of-type {\n",
       "        vertical-align: middle;\n",
       "    }\n",
       "\n",
       "    .dataframe tbody tr th {\n",
       "        vertical-align: top;\n",
       "    }\n",
       "\n",
       "    .dataframe thead th {\n",
       "        text-align: right;\n",
       "    }\n",
       "</style>\n",
       "<table border=\"1\" class=\"dataframe\">\n",
       "  <thead>\n",
       "    <tr style=\"text-align: right;\">\n",
       "      <th></th>\n",
       "      <th>id</th>\n",
       "      <th>category</th>\n",
       "      <th>title</th>\n",
       "    </tr>\n",
       "  </thead>\n",
       "  <tbody>\n",
       "    <tr>\n",
       "      <th>0</th>\n",
       "      <td>daa54754-af9c-41c0-b542-fe5eabc5919c</td>\n",
       "      <td>Kitchen</td>\n",
       "      <td>Bodum Travel Press 12-Ounce French Press Coffe...</td>\n",
       "    </tr>\n",
       "    <tr>\n",
       "      <th>1</th>\n",
       "      <td>ab602aca-9bad-4aa9-bd42-6ce24cdf8680</td>\n",
       "      <td>Kitchen</td>\n",
       "      <td>RH Forschner by Victorinox BladeSafe for Knife...</td>\n",
       "    </tr>\n",
       "    <tr>\n",
       "      <th>2</th>\n",
       "      <td>f98cd8d3-d6fe-4ee3-8c9f-a18c1690f7a6</td>\n",
       "      <td>Kitchen</td>\n",
       "      <td>Bellemain 12-Cup Nonstick Madeleine Pan</td>\n",
       "    </tr>\n",
       "    <tr>\n",
       "      <th>3</th>\n",
       "      <td>396f73e3-e3ef-4c93-a4b7-e8b04c6a2223</td>\n",
       "      <td>Jewelry</td>\n",
       "      <td>8mm Heat Treated Agate Beads Tibetan Buddhist ...</td>\n",
       "    </tr>\n",
       "    <tr>\n",
       "      <th>4</th>\n",
       "      <td>329ed5e3-8b47-4e78-961b-18b89e7da808</td>\n",
       "      <td>Jewelry</td>\n",
       "      <td>2.50 Ct Oval Black Onyx 925 Sterling Silver Pe...</td>\n",
       "    </tr>\n",
       "  </tbody>\n",
       "</table>\n",
       "</div>"
      ],
      "text/plain": [
       "                                     id category  \\\n",
       "0  daa54754-af9c-41c0-b542-fe5eabc5919c  Kitchen   \n",
       "1  ab602aca-9bad-4aa9-bd42-6ce24cdf8680  Kitchen   \n",
       "2  f98cd8d3-d6fe-4ee3-8c9f-a18c1690f7a6  Kitchen   \n",
       "3  396f73e3-e3ef-4c93-a4b7-e8b04c6a2223  Jewelry   \n",
       "4  329ed5e3-8b47-4e78-961b-18b89e7da808  Jewelry   \n",
       "\n",
       "                                               title  \n",
       "0  Bodum Travel Press 12-Ounce French Press Coffe...  \n",
       "1  RH Forschner by Victorinox BladeSafe for Knife...  \n",
       "2            Bellemain 12-Cup Nonstick Madeleine Pan  \n",
       "3  8mm Heat Treated Agate Beads Tibetan Buddhist ...  \n",
       "4  2.50 Ct Oval Black Onyx 925 Sterling Silver Pe...  "
      ]
     },
     "execution_count": 14,
     "metadata": {},
     "output_type": "execute_result"
    }
   ],
   "source": [
    "# check first 5 rows of dataset\n",
    "products_0.head()"
   ]
  },
  {
   "cell_type": "code",
   "execution_count": 23,
   "metadata": {},
   "outputs": [
    {
     "data": {
      "text/html": [
       "<div>\n",
       "<style scoped>\n",
       "    .dataframe tbody tr th:only-of-type {\n",
       "        vertical-align: middle;\n",
       "    }\n",
       "\n",
       "    .dataframe tbody tr th {\n",
       "        vertical-align: top;\n",
       "    }\n",
       "\n",
       "    .dataframe thead th {\n",
       "        text-align: right;\n",
       "    }\n",
       "</style>\n",
       "<table border=\"1\" class=\"dataframe\">\n",
       "  <thead>\n",
       "    <tr style=\"text-align: right;\">\n",
       "      <th></th>\n",
       "      <th>id</th>\n",
       "      <th>rating</th>\n",
       "      <th>review</th>\n",
       "    </tr>\n",
       "  </thead>\n",
       "  <tbody>\n",
       "    <tr>\n",
       "      <th>0</th>\n",
       "      <td>daa54754-af9c-41c0-b542-fe5eabc5919c</td>\n",
       "      <td>5</td>\n",
       "      <td>Great!</td>\n",
       "    </tr>\n",
       "    <tr>\n",
       "      <th>1</th>\n",
       "      <td>ab602aca-9bad-4aa9-bd42-6ce24cdf8680</td>\n",
       "      <td>5</td>\n",
       "      <td>It fit perfectly on my new&lt;br /&gt;Victorinox Fib...</td>\n",
       "    </tr>\n",
       "    <tr>\n",
       "      <th>2</th>\n",
       "      <td>f98cd8d3-d6fe-4ee3-8c9f-a18c1690f7a6</td>\n",
       "      <td>5</td>\n",
       "      <td>Excellent pan - my daughter just made madelein...</td>\n",
       "    </tr>\n",
       "    <tr>\n",
       "      <th>3</th>\n",
       "      <td>396f73e3-e3ef-4c93-a4b7-e8b04c6a2223</td>\n",
       "      <td>3</td>\n",
       "      <td>not the good one  but not bad</td>\n",
       "    </tr>\n",
       "    <tr>\n",
       "      <th>4</th>\n",
       "      <td>329ed5e3-8b47-4e78-961b-18b89e7da808</td>\n",
       "      <td>1</td>\n",
       "      <td>This is a rip off. It only comes with this nec...</td>\n",
       "    </tr>\n",
       "  </tbody>\n",
       "</table>\n",
       "</div>"
      ],
      "text/plain": [
       "                                     id  rating  \\\n",
       "0  daa54754-af9c-41c0-b542-fe5eabc5919c       5   \n",
       "1  ab602aca-9bad-4aa9-bd42-6ce24cdf8680       5   \n",
       "2  f98cd8d3-d6fe-4ee3-8c9f-a18c1690f7a6       5   \n",
       "3  396f73e3-e3ef-4c93-a4b7-e8b04c6a2223       3   \n",
       "4  329ed5e3-8b47-4e78-961b-18b89e7da808       1   \n",
       "\n",
       "                                              review  \n",
       "0                                             Great!  \n",
       "1  It fit perfectly on my new<br />Victorinox Fib...  \n",
       "2  Excellent pan - my daughter just made madelein...  \n",
       "3                      not the good one  but not bad  \n",
       "4  This is a rip off. It only comes with this nec...  "
      ]
     },
     "execution_count": 23,
     "metadata": {},
     "output_type": "execute_result"
    }
   ],
   "source": [
    "reviews_0.head()"
   ]
  },
  {
   "cell_type": "code",
   "execution_count": 19,
   "metadata": {},
   "outputs": [],
   "source": [
    "# join dataset by rows\n",
    "products = pd.concat([products_0, products_1, products_2, products_3])\n",
    "reviews = pd.concat([reviews_0, reviews_1, reviews_2, reviews_3])"
   ]
  },
  {
   "cell_type": "code",
   "execution_count": 58,
   "metadata": {},
   "outputs": [
    {
     "data": {
      "text/plain": [
       "1254"
      ]
     },
     "execution_count": 58,
     "metadata": {},
     "output_type": "execute_result"
    }
   ],
   "source": [
    "# join dataset by columns\n",
    "data = pd.merge(products, reviews, on='id')\n",
    "len(data)"
   ]
  },
  {
   "cell_type": "markdown",
   "metadata": {},
   "source": [
    "Code the target variable to be numeric: use the value `1` to represent 'Kitchen' and `0` to represent 'Jewelry'."
   ]
  },
  {
   "cell_type": "code",
   "execution_count": 59,
   "metadata": {
    "scrolled": true
   },
   "outputs": [
    {
     "data": {
      "text/html": [
       "<div>\n",
       "<style scoped>\n",
       "    .dataframe tbody tr th:only-of-type {\n",
       "        vertical-align: middle;\n",
       "    }\n",
       "\n",
       "    .dataframe tbody tr th {\n",
       "        vertical-align: top;\n",
       "    }\n",
       "\n",
       "    .dataframe thead th {\n",
       "        text-align: right;\n",
       "    }\n",
       "</style>\n",
       "<table border=\"1\" class=\"dataframe\">\n",
       "  <thead>\n",
       "    <tr style=\"text-align: right;\">\n",
       "      <th></th>\n",
       "      <th>id</th>\n",
       "      <th>title</th>\n",
       "      <th>rating</th>\n",
       "      <th>review</th>\n",
       "      <th>category</th>\n",
       "    </tr>\n",
       "  </thead>\n",
       "  <tbody>\n",
       "    <tr>\n",
       "      <th>0</th>\n",
       "      <td>daa54754-af9c-41c0-b542-fe5eabc5919c</td>\n",
       "      <td>Bodum Travel Press 12-Ounce French Press Coffe...</td>\n",
       "      <td>5</td>\n",
       "      <td>Great!</td>\n",
       "      <td>1</td>\n",
       "    </tr>\n",
       "    <tr>\n",
       "      <th>1</th>\n",
       "      <td>ab602aca-9bad-4aa9-bd42-6ce24cdf8680</td>\n",
       "      <td>RH Forschner by Victorinox BladeSafe for Knife...</td>\n",
       "      <td>5</td>\n",
       "      <td>It fit perfectly on my new&lt;br /&gt;Victorinox Fib...</td>\n",
       "      <td>1</td>\n",
       "    </tr>\n",
       "    <tr>\n",
       "      <th>2</th>\n",
       "      <td>f98cd8d3-d6fe-4ee3-8c9f-a18c1690f7a6</td>\n",
       "      <td>Bellemain 12-Cup Nonstick Madeleine Pan</td>\n",
       "      <td>5</td>\n",
       "      <td>Excellent pan - my daughter just made madelein...</td>\n",
       "      <td>1</td>\n",
       "    </tr>\n",
       "    <tr>\n",
       "      <th>3</th>\n",
       "      <td>396f73e3-e3ef-4c93-a4b7-e8b04c6a2223</td>\n",
       "      <td>8mm Heat Treated Agate Beads Tibetan Buddhist ...</td>\n",
       "      <td>3</td>\n",
       "      <td>not the good one  but not bad</td>\n",
       "      <td>0</td>\n",
       "    </tr>\n",
       "    <tr>\n",
       "      <th>4</th>\n",
       "      <td>329ed5e3-8b47-4e78-961b-18b89e7da808</td>\n",
       "      <td>2.50 Ct Oval Black Onyx 925 Sterling Silver Pe...</td>\n",
       "      <td>1</td>\n",
       "      <td>This is a rip off. It only comes with this nec...</td>\n",
       "      <td>0</td>\n",
       "    </tr>\n",
       "  </tbody>\n",
       "</table>\n",
       "</div>"
      ],
      "text/plain": [
       "                                     id  \\\n",
       "0  daa54754-af9c-41c0-b542-fe5eabc5919c   \n",
       "1  ab602aca-9bad-4aa9-bd42-6ce24cdf8680   \n",
       "2  f98cd8d3-d6fe-4ee3-8c9f-a18c1690f7a6   \n",
       "3  396f73e3-e3ef-4c93-a4b7-e8b04c6a2223   \n",
       "4  329ed5e3-8b47-4e78-961b-18b89e7da808   \n",
       "\n",
       "                                               title rating  \\\n",
       "0  Bodum Travel Press 12-Ounce French Press Coffe...      5   \n",
       "1  RH Forschner by Victorinox BladeSafe for Knife...      5   \n",
       "2            Bellemain 12-Cup Nonstick Madeleine Pan      5   \n",
       "3  8mm Heat Treated Agate Beads Tibetan Buddhist ...      3   \n",
       "4  2.50 Ct Oval Black Onyx 925 Sterling Silver Pe...      1   \n",
       "\n",
       "                                              review  category  \n",
       "0                                             Great!         1  \n",
       "1  It fit perfectly on my new<br />Victorinox Fib...         1  \n",
       "2  Excellent pan - my daughter just made madelein...         1  \n",
       "3                      not the good one  but not bad         0  \n",
       "4  This is a rip off. It only comes with this nec...         0  "
      ]
     },
     "execution_count": 59,
     "metadata": {},
     "output_type": "execute_result"
    }
   ],
   "source": [
    "dummy = (data.iloc[:,1]=='Kitchen')*1\n",
    "dummy\n",
    "df = pd.concat([data.drop(columns=['category']),dummy],1)\n",
    "df.head()"
   ]
  },
  {
   "cell_type": "markdown",
   "metadata": {},
   "source": [
    "### Join title and review column into a new column called 'text' for text tokenization"
   ]
  },
  {
   "cell_type": "code",
   "execution_count": 65,
   "metadata": {},
   "outputs": [],
   "source": [
    "df[\"text\"] = df[\"title\"].map(str) + df[\"review\"]"
   ]
  },
  {
   "cell_type": "code",
   "execution_count": 66,
   "metadata": {
    "scrolled": true
   },
   "outputs": [
    {
     "data": {
      "text/html": [
       "<div>\n",
       "<style scoped>\n",
       "    .dataframe tbody tr th:only-of-type {\n",
       "        vertical-align: middle;\n",
       "    }\n",
       "\n",
       "    .dataframe tbody tr th {\n",
       "        vertical-align: top;\n",
       "    }\n",
       "\n",
       "    .dataframe thead th {\n",
       "        text-align: right;\n",
       "    }\n",
       "</style>\n",
       "<table border=\"1\" class=\"dataframe\">\n",
       "  <thead>\n",
       "    <tr style=\"text-align: right;\">\n",
       "      <th></th>\n",
       "      <th>id</th>\n",
       "      <th>title</th>\n",
       "      <th>rating</th>\n",
       "      <th>review</th>\n",
       "      <th>category</th>\n",
       "      <th>text</th>\n",
       "    </tr>\n",
       "  </thead>\n",
       "  <tbody>\n",
       "    <tr>\n",
       "      <th>0</th>\n",
       "      <td>daa54754-af9c-41c0-b542-fe5eabc5919c</td>\n",
       "      <td>Bodum Travel Press 12-Ounce French Press Coffe...</td>\n",
       "      <td>5</td>\n",
       "      <td>Great!</td>\n",
       "      <td>1</td>\n",
       "      <td>Bodum Travel Press 12-Ounce French Press Coffe...</td>\n",
       "    </tr>\n",
       "    <tr>\n",
       "      <th>1</th>\n",
       "      <td>ab602aca-9bad-4aa9-bd42-6ce24cdf8680</td>\n",
       "      <td>RH Forschner by Victorinox BladeSafe for Knife...</td>\n",
       "      <td>5</td>\n",
       "      <td>It fit perfectly on my new&lt;br /&gt;Victorinox Fib...</td>\n",
       "      <td>1</td>\n",
       "      <td>RH Forschner by Victorinox BladeSafe for Knife...</td>\n",
       "    </tr>\n",
       "    <tr>\n",
       "      <th>2</th>\n",
       "      <td>f98cd8d3-d6fe-4ee3-8c9f-a18c1690f7a6</td>\n",
       "      <td>Bellemain 12-Cup Nonstick Madeleine Pan</td>\n",
       "      <td>5</td>\n",
       "      <td>Excellent pan - my daughter just made madelein...</td>\n",
       "      <td>1</td>\n",
       "      <td>Bellemain 12-Cup Nonstick Madeleine PanExcelle...</td>\n",
       "    </tr>\n",
       "    <tr>\n",
       "      <th>3</th>\n",
       "      <td>396f73e3-e3ef-4c93-a4b7-e8b04c6a2223</td>\n",
       "      <td>8mm Heat Treated Agate Beads Tibetan Buddhist ...</td>\n",
       "      <td>3</td>\n",
       "      <td>not the good one  but not bad</td>\n",
       "      <td>0</td>\n",
       "      <td>8mm Heat Treated Agate Beads Tibetan Buddhist ...</td>\n",
       "    </tr>\n",
       "    <tr>\n",
       "      <th>4</th>\n",
       "      <td>329ed5e3-8b47-4e78-961b-18b89e7da808</td>\n",
       "      <td>2.50 Ct Oval Black Onyx 925 Sterling Silver Pe...</td>\n",
       "      <td>1</td>\n",
       "      <td>This is a rip off. It only comes with this nec...</td>\n",
       "      <td>0</td>\n",
       "      <td>2.50 Ct Oval Black Onyx 925 Sterling Silver Pe...</td>\n",
       "    </tr>\n",
       "  </tbody>\n",
       "</table>\n",
       "</div>"
      ],
      "text/plain": [
       "                                     id  \\\n",
       "0  daa54754-af9c-41c0-b542-fe5eabc5919c   \n",
       "1  ab602aca-9bad-4aa9-bd42-6ce24cdf8680   \n",
       "2  f98cd8d3-d6fe-4ee3-8c9f-a18c1690f7a6   \n",
       "3  396f73e3-e3ef-4c93-a4b7-e8b04c6a2223   \n",
       "4  329ed5e3-8b47-4e78-961b-18b89e7da808   \n",
       "\n",
       "                                               title rating  \\\n",
       "0  Bodum Travel Press 12-Ounce French Press Coffe...      5   \n",
       "1  RH Forschner by Victorinox BladeSafe for Knife...      5   \n",
       "2            Bellemain 12-Cup Nonstick Madeleine Pan      5   \n",
       "3  8mm Heat Treated Agate Beads Tibetan Buddhist ...      3   \n",
       "4  2.50 Ct Oval Black Onyx 925 Sterling Silver Pe...      1   \n",
       "\n",
       "                                              review  category  \\\n",
       "0                                             Great!         1   \n",
       "1  It fit perfectly on my new<br />Victorinox Fib...         1   \n",
       "2  Excellent pan - my daughter just made madelein...         1   \n",
       "3                      not the good one  but not bad         0   \n",
       "4  This is a rip off. It only comes with this nec...         0   \n",
       "\n",
       "                                                text  \n",
       "0  Bodum Travel Press 12-Ounce French Press Coffe...  \n",
       "1  RH Forschner by Victorinox BladeSafe for Knife...  \n",
       "2  Bellemain 12-Cup Nonstick Madeleine PanExcelle...  \n",
       "3  8mm Heat Treated Agate Beads Tibetan Buddhist ...  \n",
       "4  2.50 Ct Oval Black Onyx 925 Sterling Silver Pe...  "
      ]
     },
     "execution_count": 66,
     "metadata": {},
     "output_type": "execute_result"
    }
   ],
   "source": [
    "df.head()"
   ]
  },
  {
   "cell_type": "code",
   "execution_count": 80,
   "metadata": {},
   "outputs": [],
   "source": [
    "# Split train test data\n",
    "\n",
    "from sklearn.model_selection import train_test_split\n",
    "\n",
    "X = df['text']\n",
    "y = df['category']\n",
    "\n",
    "X_train, X_test, y_train, y_test = train_test_split(X, y, test_size=0.2, random_state=42)"
   ]
  },
  {
   "cell_type": "markdown",
   "metadata": {},
   "source": [
    "# Get summary statistics\n",
    "Get summary stats of the total df, and check for null values if necessary"
   ]
  },
  {
   "cell_type": "code",
   "execution_count": 61,
   "metadata": {},
   "outputs": [
    {
     "data": {
      "text/html": [
       "<div>\n",
       "<style scoped>\n",
       "    .dataframe tbody tr th:only-of-type {\n",
       "        vertical-align: middle;\n",
       "    }\n",
       "\n",
       "    .dataframe tbody tr th {\n",
       "        vertical-align: top;\n",
       "    }\n",
       "\n",
       "    .dataframe thead th {\n",
       "        text-align: right;\n",
       "    }\n",
       "</style>\n",
       "<table border=\"1\" class=\"dataframe\">\n",
       "  <thead>\n",
       "    <tr style=\"text-align: right;\">\n",
       "      <th></th>\n",
       "      <th>category</th>\n",
       "    </tr>\n",
       "  </thead>\n",
       "  <tbody>\n",
       "    <tr>\n",
       "      <th>count</th>\n",
       "      <td>1254.000000</td>\n",
       "    </tr>\n",
       "    <tr>\n",
       "      <th>mean</th>\n",
       "      <td>0.409091</td>\n",
       "    </tr>\n",
       "    <tr>\n",
       "      <th>std</th>\n",
       "      <td>0.491862</td>\n",
       "    </tr>\n",
       "    <tr>\n",
       "      <th>min</th>\n",
       "      <td>0.000000</td>\n",
       "    </tr>\n",
       "    <tr>\n",
       "      <th>25%</th>\n",
       "      <td>0.000000</td>\n",
       "    </tr>\n",
       "    <tr>\n",
       "      <th>50%</th>\n",
       "      <td>0.000000</td>\n",
       "    </tr>\n",
       "    <tr>\n",
       "      <th>75%</th>\n",
       "      <td>1.000000</td>\n",
       "    </tr>\n",
       "    <tr>\n",
       "      <th>max</th>\n",
       "      <td>1.000000</td>\n",
       "    </tr>\n",
       "  </tbody>\n",
       "</table>\n",
       "</div>"
      ],
      "text/plain": [
       "          category\n",
       "count  1254.000000\n",
       "mean      0.409091\n",
       "std       0.491862\n",
       "min       0.000000\n",
       "25%       0.000000\n",
       "50%       0.000000\n",
       "75%       1.000000\n",
       "max       1.000000"
      ]
     },
     "execution_count": 61,
     "metadata": {},
     "output_type": "execute_result"
    }
   ],
   "source": [
    "df.describe()"
   ]
  },
  {
   "cell_type": "code",
   "execution_count": 62,
   "metadata": {},
   "outputs": [
    {
     "name": "stdout",
     "output_type": "stream",
     "text": [
      "id  :  0\n",
      "title  :  0\n",
      "rating  :  0\n",
      "review  :  0\n",
      "category  :  0\n"
     ]
    }
   ],
   "source": [
    "for col in df.columns:\n",
    "    print(col, \" : \", sum(df[col].isnull()))"
   ]
  },
  {
   "cell_type": "markdown",
   "metadata": {},
   "source": [
    "# Modelling\n",
    "Use two ways of vectorization: count-based and TF-IDF\n",
    "Use three algorithms for binary classification:\n",
    "    - Logistic regression\n",
    "    - Bernoulli naive bayes\n",
    "    - Support vector machine"
   ]
  },
  {
   "cell_type": "code",
   "execution_count": 81,
   "metadata": {},
   "outputs": [],
   "source": [
    "from sklearn.feature_extraction.text import TfidfVectorizer\n",
    "from sklearn.feature_extraction.text import CountVectorizer\n",
    "\n",
    "# from nltk.tokenize import RegexpTokenizer\n",
    "\n",
    "# tokenizer = RegexpTokenizer(r'\\w+')\n",
    "# tokenizer.tokenize('Eighty-seven miles to go, yet.  Onward!')\n",
    "\n",
    "# vectorize \n",
    "\n",
    "tfidfvectorizer = TfidfVectorizer(stop_words='english', ngram_range = (1,2), binary=True)\n",
    "tfidf_corpus = tfidfvectorizer.fit([''.join(x) for x in X_train.values.tolist()])\n",
    "X_tfidf_train = tfidf_corpus.transform([''.join(x) for x in X_train.values.tolist()])\n",
    "X_tfidf_test = tfidf_corpus.transform([''.join(x) for x in X_test.values.tolist()])\n",
    "\n",
    "countvectorizer = CountVectorizer(stop_words='english', ngram_range = (1,2), binary=True)\n",
    "count_corpus = countvectorizer.fit([''.join(x) for x in X_train.values.tolist()])\n",
    "X_count_train = count_corpus.transform([''.join(x) for x in X_train.values.tolist()])\n",
    "X_count_test = count_corpus.transform([''.join(x) for x in X_test.values.tolist()])"
   ]
  },
  {
   "cell_type": "code",
   "execution_count": 84,
   "metadata": {},
   "outputs": [
    {
     "name": "stderr",
     "output_type": "stream",
     "text": [
      "/anaconda3/lib/python3.6/site-packages/sklearn/linear_model/logistic.py:433: FutureWarning: Default solver will be changed to 'lbfgs' in 0.22. Specify a solver to silence this warning.\n",
      "  FutureWarning)\n",
      "/anaconda3/lib/python3.6/site-packages/sklearn/linear_model/logistic.py:433: FutureWarning: Default solver will be changed to 'lbfgs' in 0.22. Specify a solver to silence this warning.\n",
      "  FutureWarning)\n",
      "/anaconda3/lib/python3.6/site-packages/sklearn/svm/base.py:196: FutureWarning: The default value of gamma will change from 'auto' to 'scale' in version 0.22 to account better for unscaled features. Set gamma explicitly to 'auto' or 'scale' to avoid this warning.\n",
      "  \"avoid this warning.\", FutureWarning)\n"
     ]
    },
    {
     "name": "stdout",
     "output_type": "stream",
     "text": [
      "Accuracy of logistic regression classifier using count vectorizer on test set: 0.86\n",
      "Area under the ROC curve on the test data = 0.914\n",
      "Accuracy of logistic regression classifier using tfidf vectorizer on test set: 0.82\n",
      "Area under the ROC curve on the test data = 0.910\n",
      "Accuracy of Bernoulli classifier using count vectorizer on test set: 0.61\n",
      "Area under the ROC curve on the test data = 0.908\n",
      "Accuracy of Bernoulli classifier using tfidf vectorizer on test set: 0.61\n",
      "Area under the ROC curve on the test data = 0.908\n",
      "Accuracy of Bernoulli classifier using count vectorizer on test set: 0.56\n",
      "Area under the ROC curve on the test data = 0.903\n"
     ]
    },
    {
     "name": "stderr",
     "output_type": "stream",
     "text": [
      "/anaconda3/lib/python3.6/site-packages/sklearn/svm/base.py:196: FutureWarning: The default value of gamma will change from 'auto' to 'scale' in version 0.22 to account better for unscaled features. Set gamma explicitly to 'auto' or 'scale' to avoid this warning.\n",
      "  \"avoid this warning.\", FutureWarning)\n"
     ]
    },
    {
     "name": "stdout",
     "output_type": "stream",
     "text": [
      "Accuracy of Bernoulli classifier using tfidf vectorizer on test set: 0.61\n",
      "Area under the ROC curve on the test data = 0.913\n"
     ]
    }
   ],
   "source": [
    "from sklearn.linear_model import LogisticRegression\n",
    "from sklearn.naive_bayes import BernoulliNB\n",
    "from sklearn.svm import SVC\n",
    "from sklearn import metrics\n",
    "\n",
    "# logistic regression\n",
    "logiclf_count = LogisticRegression()\n",
    "logiclf_count.fit(X_count_train, y_train)\n",
    "logiclf_count_score = logiclf_count.score(X_count_test, y_test)\n",
    "print('Accuracy of logistic regression classifier using count vectorizer on test set: {:.2f}'.format(logiclf_count_score))\n",
    "print(\"Area under the ROC curve on the test data = %.3f\" % metrics.roc_auc_score(y_test, logiclf_count.predict_proba(X_count_test)[:,1]))\n",
    "\n",
    "logiclf_tf = LogisticRegression()\n",
    "logiclf_tf.fit(X_tfidf_train, y_train)\n",
    "logiclf_tf_score = logiclf_tf.score(X_tfidf_test, y_test)\n",
    "print('Accuracy of logistic regression classifier using tfidf vectorizer on test set: {:.2f}'.format(logiclf_tf_score))\n",
    "print(\"Area under the ROC curve on the test data = %.3f\" % metrics.roc_auc_score(y_test, logiclf_tf.predict_proba(X_tfidf_test)[:,1]))\n",
    "\n",
    "# bernoulli NB\n",
    "bernoclf_count = BernoulliNB()\n",
    "bernoclf_count.fit(X_count_train, y_train)\n",
    "bernoclf_count_score = bernoclf_count.score(X_count_test, y_test)\n",
    "print('Accuracy of Bernoulli classifier using count vectorizer on test set: {:.2f}'.format(bernoclf_count_score))\n",
    "print(\"Area under the ROC curve on the test data = %.3f\" % metrics.roc_auc_score(y_test, bernoclf_count.predict_proba(X_count_test)[:,1]))\n",
    "\n",
    "bernoclf_tf = BernoulliNB()\n",
    "bernoclf_tf.fit(X_tfidf_train, y_train)\n",
    "bernoclf_tf_score = bernoclf_tf.score(X_tfidf_test, y_test)\n",
    "print('Accuracy of Bernoulli classifier using tfidf vectorizer on test set: {:.2f}'.format(bernoclf_tf_score))\n",
    "print(\"Area under the ROC curve on the test data = %.3f\" % metrics.roc_auc_score(y_test, bernoclf_tf.predict_proba(X_tfidf_test)[:,1]))\n",
    "\n",
    "# SVM\n",
    "SVC_count = SVC(probability=True)\n",
    "SVC_count.fit(X_count_train, y_train)\n",
    "SVC_count_score = SVC_count.score(X_count_test, y_test)\n",
    "print('Accuracy of Bernoulli classifier using count vectorizer on test set: {:.2f}'.format(SVC_count_score))\n",
    "print(\"Area under the ROC curve on the test data = %.3f\" % metrics.roc_auc_score(y_test, SVC_count.predict_proba(X_count_test)[:,1]))\n",
    "\n",
    "SVC_tf = SVC(probability=True)\n",
    "SVC_tf.fit(X_tfidf_train, y_train)\n",
    "SVC_tf_score = SVC_tf.score(X_tfidf_test, y_test)\n",
    "print('Accuracy of Bernoulli classifier using tfidf vectorizer on test set: {:.2f}'.format(bernoclf_tf_score))\n",
    "print(\"Area under the ROC curve on the test data = %.3f\" % metrics.roc_auc_score(y_test, SVC_tf.predict_proba(X_tfidf_test)[:,1]))"
   ]
  },
  {
   "cell_type": "markdown",
   "metadata": {},
   "source": [
    "## Plot: false positive v. false negative"
   ]
  },
  {
   "cell_type": "code",
   "execution_count": 83,
   "metadata": {},
   "outputs": [
    {
     "data": {
      "image/png": "[encoded data removed]",
      "text/plain": [
       "<Figure size 864x864 with 1 Axes>"
      ]
     },
     "metadata": {},
     "output_type": "display_data"
    }
   ],
   "source": [
    "# Calculate AUC score\n",
    "logi_count = metrics.roc_auc_score(y_test, logiclf_count.predict_proba(X_count_test)[:,1])\n",
    "logi_tf = metrics.roc_auc_score(y_test, logiclf_count.predict_proba(X_tfidf_test)[:,1])\n",
    "berno_count = metrics.roc_auc_score( y_test, bernoclf_count.predict_proba(X_count_test)[:,1])\n",
    "berno_tf = metrics.roc_auc_score( y_test, bernoclf_count.predict_proba(X_tfidf_test)[:,1])\n",
    "svm_count = metrics.roc_auc_score(y_test, SVC_count.predict_proba(X_count_test)[:,1])\n",
    "svm_tf = metrics.roc_auc_score(y_test, SVC_tf.predict_proba(X_tfidf_test)[:,1])\n",
    "\n",
    "# Logistic regression \n",
    "fpr_logit_count, tpr_logit_count, thresholds_logi_count = metrics.roc_curve(y_test, logiclf_count.predict_proba(X_count_test)[:,1])\n",
    "fpr_logit_tf, tpr_logit_tf, thresholds_logi_tf = metrics.roc_curve(y_test, logiclf_tf.predict_proba(X_tfidf_test)[:,1])\n",
    "\n",
    "# Bernoulli \n",
    "fpr_berno_count, tpr_berno_count, thresholds_berno_count = metrics.roc_curve(y_test, bernoclf_count.predict_proba(X_count_test)[:,1])\n",
    "fpr_berno_tf, tpr_berno_tf, thresholds_berno_tf = metrics.roc_curve(y_test, bernoclf_tf.predict_proba(X_tfidf_test)[:,1])\n",
    "\n",
    "# SVM\n",
    "fpr_svm_count, tpr_svm_count, thresholds_svm_count = metrics.roc_curve(y_test, SVC_count.predict_proba(X_count_test)[:,1])\n",
    "fpr_svm_tf, tpr_svm_tf, thresholds_svm_tf = metrics.roc_curve(y_test, SVC_tf.predict_proba(X_tfidf_test)[:,1])\n",
    "\n",
    "# Plot\n",
    "import matplotlib.pyplot as plt\n",
    "%matplotlib inline\n",
    "plt.rcParams['figure.figsize'] = 12, 12\n",
    "\n",
    "plt.figure()\n",
    "plt.plot(fpr_logit_count, tpr_logit_count, label='Logistic Regression count (area = %0.3f)' % logi_count)\n",
    "plt.plot(fpr_logit_tf, tpr_logit_tf, label='Logistic Regression tf (area = %0.3f)' % logi_tf)\n",
    "plt.plot(fpr_berno_count, tpr_berno_count, label='Bernoulli count (area = %0.3f)' % berno_count)\n",
    "plt.plot(fpr_berno_tf, tpr_berno_tf, label='Bernoulli tf (area = %0.3f)' % berno_tf)\n",
    "plt.plot(fpr_svm_count, tpr_svm_count, label='SVM count (area = %0.3f)' % svm_count)\n",
    "plt.plot(fpr_svm_tf, tpr_svm_tf, label='Bernoulli tf (area = %0.3f)' % svm_tf)\n",
    "\n",
    "plt.plot([0, 1], [0, 1],'r--')\n",
    "plt.xlim([0.0, 1.0])\n",
    "plt.ylim([0.0, 1.05])\n",
    "plt.xlabel('False Positive Rate')\n",
    "plt.ylabel('True Positive Rate')\n",
    "plt.title('Receiver operating characteristic')\n",
    "plt.legend(loc=\"lower right\")\n",
    "plt.savefig('Log_ROC')\n",
    "plt.show()"
   ]
  },
  {
   "cell_type": "markdown",
   "metadata": {},
   "source": [
    "## Gridsearch cross-validation"
   ]
  },
  {
   "cell_type": "code",
   "execution_count": 85,
   "metadata": {
    "scrolled": false
   },
   "outputs": [
    {
     "name": "stdout",
     "output_type": "stream",
     "text": [
      "# Tuning hyper-parameters for precision\n",
      "\n"
     ]
    },
    {
     "name": "stderr",
     "output_type": "stream",
     "text": [
      "/anaconda3/lib/python3.6/site-packages/sklearn/metrics/classification.py:1143: UndefinedMetricWarning: Precision is ill-defined and being set to 0.0 in labels with no predicted samples.\n",
      "  'precision', 'predicted', average, warn_for)\n",
      "/anaconda3/lib/python3.6/site-packages/sklearn/model_selection/_search.py:841: DeprecationWarning: The default of the `iid` parameter will change from True to False in version 0.22 and will be removed in 0.24. This will change numeric results when test-set sizes are unequal.\n",
      "  DeprecationWarning)\n"
     ]
    },
    {
     "name": "stdout",
     "output_type": "stream",
     "text": [
      "Best parameters set found on development set:\n",
      "\n",
      "{'C': 1, 'kernel': 'linear'}\n",
      "\n",
      "Grid scores on development set:\n",
      "\n",
      "0.299 (+/-0.001) for {'C': 1, 'gamma': 0.001, 'kernel': 'rbf'}\n",
      "0.299 (+/-0.001) for {'C': 1, 'gamma': 0.0001, 'kernel': 'rbf'}\n",
      "0.299 (+/-0.001) for {'C': 10, 'gamma': 0.001, 'kernel': 'rbf'}\n",
      "0.299 (+/-0.001) for {'C': 10, 'gamma': 0.0001, 'kernel': 'rbf'}\n",
      "0.400 (+/-0.401) for {'C': 100, 'gamma': 0.001, 'kernel': 'rbf'}\n",
      "0.299 (+/-0.001) for {'C': 100, 'gamma': 0.0001, 'kernel': 'rbf'}\n",
      "0.848 (+/-0.038) for {'C': 1000, 'gamma': 0.001, 'kernel': 'rbf'}\n",
      "0.400 (+/-0.401) for {'C': 1000, 'gamma': 0.0001, 'kernel': 'rbf'}\n",
      "0.865 (+/-0.037) for {'C': 1, 'kernel': 'linear'}\n",
      "0.848 (+/-0.038) for {'C': 10, 'kernel': 'linear'}\n",
      "0.848 (+/-0.038) for {'C': 100, 'kernel': 'linear'}\n",
      "0.848 (+/-0.038) for {'C': 1000, 'kernel': 'linear'}\n",
      "\n",
      "Detailed classification report:\n",
      "\n",
      "The model is trained on the full development set.\n",
      "The scores are computed on the full evaluation set.\n",
      "\n",
      "              precision    recall  f1-score   support\n",
      "\n",
      "           0       0.92      0.84      0.88       141\n",
      "           1       0.81      0.91      0.86       110\n",
      "\n",
      "   micro avg       0.87      0.87      0.87       251\n",
      "   macro avg       0.87      0.87      0.87       251\n",
      "weighted avg       0.87      0.87      0.87       251\n",
      "\n",
      "\n",
      "# Tuning hyper-parameters for recall\n",
      "\n",
      "Best parameters set found on development set:\n",
      "\n",
      "{'C': 1, 'kernel': 'linear'}\n",
      "\n",
      "Grid scores on development set:\n",
      "\n",
      "0.500 (+/-0.000) for {'C': 1, 'gamma': 0.001, 'kernel': 'rbf'}\n",
      "0.500 (+/-0.000) for {'C': 1, 'gamma': 0.0001, 'kernel': 'rbf'}\n",
      "0.500 (+/-0.000) for {'C': 10, 'gamma': 0.001, 'kernel': 'rbf'}\n",
      "0.500 (+/-0.000) for {'C': 10, 'gamma': 0.0001, 'kernel': 'rbf'}\n",
      "0.501 (+/-0.005) for {'C': 100, 'gamma': 0.001, 'kernel': 'rbf'}\n",
      "0.500 (+/-0.000) for {'C': 100, 'gamma': 0.0001, 'kernel': 'rbf'}\n",
      "0.856 (+/-0.045) for {'C': 1000, 'gamma': 0.001, 'kernel': 'rbf'}\n",
      "0.501 (+/-0.005) for {'C': 1000, 'gamma': 0.0001, 'kernel': 'rbf'}\n",
      "0.877 (+/-0.038) for {'C': 1, 'kernel': 'linear'}\n",
      "0.856 (+/-0.045) for {'C': 10, 'kernel': 'linear'}\n",
      "0.856 (+/-0.045) for {'C': 100, 'kernel': 'linear'}\n",
      "0.856 (+/-0.045) for {'C': 1000, 'kernel': 'linear'}\n",
      "\n",
      "Detailed classification report:\n",
      "\n",
      "The model is trained on the full development set.\n",
      "The scores are computed on the full evaluation set.\n",
      "\n",
      "              precision    recall  f1-score   support\n",
      "\n",
      "           0       0.92      0.84      0.88       141\n",
      "           1       0.81      0.91      0.86       110\n",
      "\n",
      "   micro avg       0.87      0.87      0.87       251\n",
      "   macro avg       0.87      0.87      0.87       251\n",
      "weighted avg       0.87      0.87      0.87       251\n",
      "\n",
      "\n"
     ]
    }
   ],
   "source": [
    "from sklearn.model_selection import GridSearchCV\n",
    "from sklearn.metrics import classification_report\n",
    "\n",
    "kf = KFold(n_splits=5, random_state=66)\n",
    "kf.get_n_splits(X)\n",
    "\n",
    "# Set the parameters by cross-validation\n",
    "tuned_parameters = [{'kernel': ['rbf'], 'gamma': [1e-3, 1e-4],\n",
    "                     'C': [1, 10, 100, 1000]},\n",
    "                    {'kernel': ['linear'], 'C': [1, 10, 100, 1000]}]\n",
    "\n",
    "scores = ['precision', 'recall']\n",
    "\n",
    "for score in scores:\n",
    "    print(\"# Tuning hyper-parameters for %s\" % score)\n",
    "    print()\n",
    "\n",
    "    clf = GridSearchCV(SVC(), tuned_parameters, cv=5,\n",
    "                       scoring='%s_macro' % score)\n",
    "    clf.fit(X_tfidf_train, y_train)\n",
    "\n",
    "    print(\"Best parameters set found on development set:\")\n",
    "    print()\n",
    "    print(clf.best_params_)\n",
    "    print()\n",
    "    print(\"Grid scores on development set:\")\n",
    "    print()\n",
    "    means = clf.cv_results_['mean_test_score']\n",
    "    stds = clf.cv_results_['std_test_score']\n",
    "    for mean, std, params in zip(means, stds, clf.cv_results_['params']):\n",
    "        print(\"%0.3f (+/-%0.03f) for %r\"\n",
    "              % (mean, std * 2, params))\n",
    "    print()\n",
    "\n",
    "    print(\"Detailed classification report:\")\n",
    "    print()\n",
    "    print(\"The model is trained on the full development set.\")\n",
    "    print(\"The scores are computed on the full evaluation set.\")\n",
    "    print()\n",
    "    y_true, y_pred = y_test, clf.predict(X_tfidf_test)\n",
    "    print(classification_report(y_true, y_pred))\n",
    "    print()"
   ]
  },
  {
   "cell_type": "code",
   "execution_count": 87,
   "metadata": {},
   "outputs": [
    {
     "name": "stdout",
     "output_type": "stream",
     "text": [
      "# Tuning hyper-parameters for precision\n",
      "\n"
     ]
    },
    {
     "name": "stderr",
     "output_type": "stream",
     "text": [
      "/anaconda3/lib/python3.6/site-packages/sklearn/linear_model/logistic.py:433: FutureWarning: Default solver will be changed to 'lbfgs' in 0.22. Specify a solver to silence this warning.\n",
      "  FutureWarning)\n"
     ]
    },
    {
     "name": "stdout",
     "output_type": "stream",
     "text": [
      "Best parameters set found on development set:\n",
      "\n",
      "{'C': 1, 'penalty': 'l2'}\n",
      "\n",
      "Grid scores on development set:\n",
      "\n",
      "0.840 (+/-0.039) for {'C': 1, 'penalty': 'l1'}\n",
      "0.858 (+/-0.042) for {'C': 1, 'penalty': 'l2'}\n",
      "0.812 (+/-0.026) for {'C': 10, 'penalty': 'l1'}\n",
      "0.857 (+/-0.040) for {'C': 10, 'penalty': 'l2'}\n",
      "0.813 (+/-0.028) for {'C': 100, 'penalty': 'l1'}\n",
      "0.853 (+/-0.043) for {'C': 100, 'penalty': 'l2'}\n",
      "0.830 (+/-0.052) for {'C': 1000, 'penalty': 'l1'}\n",
      "0.852 (+/-0.047) for {'C': 1000, 'penalty': 'l2'}\n",
      "\n",
      "Detailed classification report:\n",
      "\n",
      "The model is trained on the full development set.\n",
      "The scores are computed on the full evaluation set.\n",
      "\n",
      "              precision    recall  f1-score   support\n",
      "\n",
      "           0       0.91      0.84      0.88       141\n",
      "           1       0.82      0.89      0.85       110\n",
      "\n",
      "   micro avg       0.86      0.86      0.86       251\n",
      "   macro avg       0.86      0.87      0.86       251\n",
      "weighted avg       0.87      0.86      0.86       251\n",
      "\n",
      "\n",
      "# Tuning hyper-parameters for recall\n",
      "\n"
     ]
    },
    {
     "name": "stderr",
     "output_type": "stream",
     "text": [
      "/anaconda3/lib/python3.6/site-packages/sklearn/linear_model/logistic.py:433: FutureWarning: Default solver will be changed to 'lbfgs' in 0.22. Specify a solver to silence this warning.\n",
      "  FutureWarning)\n"
     ]
    },
    {
     "name": "stdout",
     "output_type": "stream",
     "text": [
      "Best parameters set found on development set:\n",
      "\n",
      "{'C': 1, 'penalty': 'l2'}\n",
      "\n",
      "Grid scores on development set:\n",
      "\n",
      "0.850 (+/-0.042) for {'C': 1, 'penalty': 'l1'}\n",
      "0.866 (+/-0.046) for {'C': 1, 'penalty': 'l2'}\n",
      "0.821 (+/-0.018) for {'C': 10, 'penalty': 'l1'}\n",
      "0.866 (+/-0.041) for {'C': 10, 'penalty': 'l2'}\n",
      "0.819 (+/-0.024) for {'C': 100, 'penalty': 'l1'}\n",
      "0.861 (+/-0.045) for {'C': 100, 'penalty': 'l2'}\n",
      "0.850 (+/-0.061) for {'C': 1000, 'penalty': 'l1'}\n",
      "0.860 (+/-0.051) for {'C': 1000, 'penalty': 'l2'}\n",
      "\n",
      "Detailed classification report:\n",
      "\n",
      "The model is trained on the full development set.\n",
      "The scores are computed on the full evaluation set.\n",
      "\n",
      "              precision    recall  f1-score   support\n",
      "\n",
      "           0       0.91      0.84      0.88       141\n",
      "           1       0.82      0.89      0.85       110\n",
      "\n",
      "   micro avg       0.86      0.86      0.86       251\n",
      "   macro avg       0.86      0.87      0.86       251\n",
      "weighted avg       0.87      0.86      0.86       251\n",
      "\n",
      "\n"
     ]
    }
   ],
   "source": [
    "# Set the parameters by cross-validation\n",
    "tuned_parameters = [{'penalty': ['l1', 'l2'],\n",
    "                     'C': [1, 10, 100, 1000]}]\n",
    "\n",
    "scores = ['precision', 'recall']\n",
    "\n",
    "for score in scores:\n",
    "    print(\"# Tuning hyper-parameters for %s\" % score)\n",
    "    print()\n",
    "\n",
    "    clf = GridSearchCV(LogisticRegression(), tuned_parameters, cv=5,\n",
    "                       scoring='%s_macro' % score)\n",
    "    clf.fit(X_count_train, y_train)\n",
    "\n",
    "    print(\"Best parameters set found on development set:\")\n",
    "    print()\n",
    "    print(clf.best_params_)\n",
    "    print()\n",
    "    print(\"Grid scores on development set:\")\n",
    "    print()\n",
    "    means = clf.cv_results_['mean_test_score']\n",
    "    stds = clf.cv_results_['std_test_score']\n",
    "    for mean, std, params in zip(means, stds, clf.cv_results_['params']):\n",
    "        print(\"%0.3f (+/-%0.03f) for %r\"\n",
    "              % (mean, std * 2, params))\n",
    "    print()\n",
    "\n",
    "    print(\"Detailed classification report:\")\n",
    "    print()\n",
    "    print(\"The model is trained on the full development set.\")\n",
    "    print(\"The scores are computed on the full evaluation set.\")\n",
    "    print()\n",
    "    y_true, y_pred = y_test, clf.predict(X_count_test)\n",
    "    print(classification_report(y_true, y_pred))\n",
    "    print()"
   ]
  },
  {
   "cell_type": "markdown",
   "metadata": {},
   "source": [
    "### Best model has a precision of 0.87 and recall of 0.86"
   ]
  },
  {
   "cell_type": "markdown",
   "metadata": {},
   "source": [
    "# Check misclassification"
   ]
  },
  {
   "cell_type": "code",
   "execution_count": 91,
   "metadata": {},
   "outputs": [
    {
     "name": "stdout",
     "output_type": "stream",
     "text": [
      "Breville USA BEM600XL Handy Stand MixerExcellent. Thank you\n",
      "\n",
      "\n",
      "Most Popular Glittering Silver Round Wedding Cake Stand 18\" for Multi-layer CakeBeautiful\n",
      "\n",
      "\n",
      "Lillian Rose True Love Cupcake Wraps, White, Set of 12Nice addition to the candy bar. Everyone loved the design. Super cute!\n",
      "\n",
      "\n"
     ]
    }
   ],
   "source": [
    "diff = logiclf_count.predict(X_count_test) - y_test\n",
    "diff = diff[diff == -1]\n",
    "\n",
    "pd.set_option('display.max_colwidth', -1)\n",
    "for i in diff.index[0:3]:\n",
    "    print(X_test.loc[i])\n",
    "    print('\\n')"
   ]
  },
  {
   "cell_type": "code",
   "execution_count": null,
   "metadata": {},
   "outputs": [],
   "source": []
  }
 ],
 "metadata": {
  "kernelspec": {
   "display_name": "Python 3",
   "language": "python",
   "name": "python3"
  },
  "language_info": {
   "codemirror_mode": {
    "name": "ipython",
    "version": 3
   },
   "file_extension": ".py",
   "mimetype": "text/x-python",
   "name": "python",
   "nbconvert_exporter": "python",
   "pygments_lexer": "ipython3",
   "version": "3.7.3"
  }
 },
 "nbformat": 4,
 "nbformat_minor": 2
}
